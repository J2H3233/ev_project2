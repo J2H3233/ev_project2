{
 "cells": [
  {
   "cell_type": "code",
   "execution_count": 6,
   "id": "c01f55f1",
   "metadata": {},
   "outputs": [],
   "source": [
    "import pandas as pd"
   ]
  },
  {
   "cell_type": "code",
   "execution_count": 7,
   "id": "e287081c",
   "metadata": {},
   "outputs": [],
   "source": [
    "df = pd.read_csv('./01_raw_data/EV_project/경제 지표/기준금리.csv', encoding='cp949')"
   ]
  },
  {
   "cell_type": "code",
   "execution_count": null,
   "id": "08e8b083",
   "metadata": {},
   "outputs": [],
   "source": [
    "df_rate = df.copy()"
   ]
  },
  {
   "cell_type": "code",
   "execution_count": 9,
   "id": "c4c99221",
   "metadata": {},
   "outputs": [
    {
     "ename": "NameError",
     "evalue": "name 'df_merged_all' is not defined",
     "output_type": "error",
     "traceback": [
      "\u001b[1;31m---------------------------------------------------------------------------\u001b[0m",
      "\u001b[1;31mNameError\u001b[0m                                 Traceback (most recent call last)",
      "Cell \u001b[1;32mIn[9], line 41\u001b[0m\n\u001b[0;32m     36\u001b[0m monthly_rate \u001b[38;5;241m=\u001b[39m monthly_rate[[\u001b[38;5;124m'\u001b[39m\u001b[38;5;124m년도\u001b[39m\u001b[38;5;124m'\u001b[39m, \u001b[38;5;124m'\u001b[39m\u001b[38;5;124m월\u001b[39m\u001b[38;5;124m'\u001b[39m, \u001b[38;5;124m'\u001b[39m\u001b[38;5;124m기준금리\u001b[39m\u001b[38;5;124m'\u001b[39m]] \\\n\u001b[0;32m     37\u001b[0m     \u001b[38;5;241m.\u001b[39mrename(columns\u001b[38;5;241m=\u001b[39m{\u001b[38;5;124m'\u001b[39m\u001b[38;5;124m기준금리\u001b[39m\u001b[38;5;124m'\u001b[39m: \u001b[38;5;124m'\u001b[39m\u001b[38;5;124m평균기준금리\u001b[39m\u001b[38;5;124m'\u001b[39m})\n\u001b[0;32m     39\u001b[0m \u001b[38;5;66;03m# 5) df_merged_all 과 병합\u001b[39;00m\n\u001b[0;32m     40\u001b[0m df_merged_all \u001b[38;5;241m=\u001b[39m pd\u001b[38;5;241m.\u001b[39mmerge(\n\u001b[1;32m---> 41\u001b[0m     \u001b[43mdf_merged_all\u001b[49m,\n\u001b[0;32m     42\u001b[0m     monthly_rate,\n\u001b[0;32m     43\u001b[0m     on\u001b[38;5;241m=\u001b[39m[\u001b[38;5;124m'\u001b[39m\u001b[38;5;124m년도\u001b[39m\u001b[38;5;124m'\u001b[39m, \u001b[38;5;124m'\u001b[39m\u001b[38;5;124m월\u001b[39m\u001b[38;5;124m'\u001b[39m],\n\u001b[0;32m     44\u001b[0m     how\u001b[38;5;241m=\u001b[39m\u001b[38;5;124m'\u001b[39m\u001b[38;5;124mleft\u001b[39m\u001b[38;5;124m'\u001b[39m\n\u001b[0;32m     45\u001b[0m )\n\u001b[0;32m     47\u001b[0m \u001b[38;5;66;03m# 6) 결과 확인\u001b[39;00m\n\u001b[0;32m     48\u001b[0m \u001b[38;5;28mprint\u001b[39m(df_merged_all[[\u001b[38;5;124m'\u001b[39m\u001b[38;5;124m년도\u001b[39m\u001b[38;5;124m'\u001b[39m,\u001b[38;5;124m'\u001b[39m\u001b[38;5;124m월\u001b[39m\u001b[38;5;124m'\u001b[39m,\u001b[38;5;124m'\u001b[39m\u001b[38;5;124m평균기준금리\u001b[39m\u001b[38;5;124m'\u001b[39m]]\u001b[38;5;241m.\u001b[39mdrop_duplicates()\u001b[38;5;241m.\u001b[39mhead())\n",
      "\u001b[1;31mNameError\u001b[0m: name 'df_merged_all' is not defined"
     ]
    }
   ],
   "source": [
    "import pandas as pd\n",
    "\n",
    "# 가정: df_rate_raw 라는 DataFrame에 아래 컬럼이 있습니다.\n",
    "#   - '변경일자' (예: 2025)\n",
    "#   - 'Unnamed: 1' (예: '05월 29일')\n",
    "#   - '기준금리'\n",
    "\n",
    "\n",
    "# 1) '변경일자' + 'Unnamed: 1' 합쳐서 datetime으로 파싱\n",
    "df_rate['date'] = pd.to_datetime(\n",
    "    df_rate['변경일자'].astype(str) + ' ' + df_rate['Unnamed: 1'],\n",
    "    format='%Y %m월 %d일'\n",
    ")\n",
    "\n",
    "# 2) 기준금리만 남기고 정렬\n",
    "df_rate = df_rate[['date', '기준금리']].sort_values('date')\n",
    "\n",
    "# 3) 일별로 확장 — 이전 값으로 채워넣기\n",
    "daily_rate = (\n",
    "    df_rate\n",
    "    .set_index('date')\n",
    "    .resample('D')\n",
    "    .ffill()\n",
    "    .reset_index()\n",
    ")\n",
    "\n",
    "# 4) 월별 평균 계산\n",
    "monthly_rate = (\n",
    "    daily_rate\n",
    "    .groupby(daily_rate['date'].dt.to_period('M'))\n",
    "    .agg({'기준금리': 'mean'})\n",
    "    .reset_index()\n",
    ")\n",
    "monthly_rate['년도'] = monthly_rate['date'].dt.year\n",
    "monthly_rate['월']   = monthly_rate['date'].dt.month\n",
    "monthly_rate = monthly_rate[['년도', '월', '기준금리']] \\\n",
    "    .rename(columns={'기준금리': '평균기준금리'})\n",
    "\n",
    "# 5) df_merged_all 과 병합\n",
    "df_merged_all = pd.merge(\n",
    "    df_merged_all,\n",
    "    monthly_rate,\n",
    "    on=['년도', '월'],\n",
    "    how='left'\n",
    ")\n",
    "\n",
    "# 6) 결과 확인\n",
    "print(df_merged_all[['년도','월','평균기준금리']].drop_duplicates().head())\n"
   ]
  }
 ],
 "metadata": {
  "kernelspec": {
   "display_name": "ev_project2",
   "language": "python",
   "name": "python3"
  },
  "language_info": {
   "codemirror_mode": {
    "name": "ipython",
    "version": 3
   },
   "file_extension": ".py",
   "mimetype": "text/x-python",
   "name": "python",
   "nbconvert_exporter": "python",
   "pygments_lexer": "ipython3",
   "version": "3.10.18"
  }
 },
 "nbformat": 4,
 "nbformat_minor": 5
}
