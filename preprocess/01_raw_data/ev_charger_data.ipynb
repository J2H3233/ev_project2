{
 "cells": [
  {
   "cell_type": "code",
   "execution_count": null,
   "id": "6c0a67e9",
   "metadata": {},
   "outputs": [],
   "source": [
    "import requests\n",
    "import pandas as pd"
   ]
  },
  {
   "cell_type": "code",
   "execution_count": null,
   "id": "c3557f4c",
   "metadata": {},
   "outputs": [
    {
     "name": "stdout",
     "output_type": "stream",
     "text": [
      "CSV 저장 완료: 446033 건\n"
     ]
    }
   ],
   "source": [
    "\n",
    "API_KEY = \"iYO3sditsNW8LVE8oua33BnEPGcKevHL5KqhO8sgoEFxKRD4yyV+oRZfDpGlKbuzhAqzvlZk5ja2qHXKpfnDCg==\"\n",
    "BASE_URL = \"http://apis.data.go.kr/B552584/EvCharger/getChargerInfo\"\n",
    "\n",
    "params = {\n",
    "    \"serviceKey\": API_KEY,\n",
    "    \"dataType\": \"JSON\",\n",
    "    \"numOfRows\": 9999,  # 최대 건수\n",
    "    \"pageNo\": 1\n",
    "}\n",
    "\n",
    "all_data = []\n",
    "\n",
    "while True:\n",
    "    res = requests.get(BASE_URL, params=params)\n",
    "    res.raise_for_status()\n",
    "    data = res.json()\n",
    "\n",
    "    items = data.get(\"items\", {}).get(\"item\", [])\n",
    "    if not items:\n",
    "        break\n",
    "\n",
    "    for item in items:\n",
    "        all_data.append({\n",
    "            \"chgerType\": item.get(\"chgerType\"),\n",
    "            \"zcode\": item.get(\"zcode\"),\n",
    "            \"year\": item.get(\"year\")\n",
    "        })\n",
    "\n",
    "    if len(items) < params[\"numOfRows\"]:\n",
    "        break\n",
    "    params[\"pageNo\"] += 1\n",
    "\n",
    "df = pd.DataFrame(all_data)\n",
    "df.to_csv(\"charger_info.csv\", index=False, encoding=\"utf-8-sig\")\n",
    "\n",
    "print(\"CSV 저장 완료:\", len(df), \"건\")\n"
   ]
  }
 ],
 "metadata": {
  "kernelspec": {
   "display_name": "ev_project2",
   "language": "python",
   "name": "python3"
  },
  "language_info": {
   "codemirror_mode": {
    "name": "ipython",
    "version": 3
   },
   "file_extension": ".py",
   "mimetype": "text/x-python",
   "name": "python",
   "nbconvert_exporter": "python",
   "pygments_lexer": "ipython3",
   "version": "3.10.18"
  }
 },
 "nbformat": 4,
 "nbformat_minor": 5
}
