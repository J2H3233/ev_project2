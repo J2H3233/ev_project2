{
 "cells": [
  {
   "cell_type": "code",
   "execution_count": 15,
   "id": "b7ed9929",
   "metadata": {},
   "outputs": [],
   "source": [
    "import glob\n",
    "import pandas as pd\n",
    "from scipy.stats import pearsonr\n",
    "import statsmodels.api as sm\n",
    "from statsmodels.stats.outliers_influence import variance_inflation_factor\n",
    "from itertools import combinations"
   ]
  },
  {
   "cell_type": "code",
   "execution_count": 23,
   "id": "b196cbb7",
   "metadata": {},
   "outputs": [],
   "source": [
    "range_battery = pd.read_csv('preprocess/evdata2.csv')\n",
    "oil = pd.read_csv('preprocess/oil.csv', encoding='cp949')\n",
    "energy = pd.read_csv('preprocess/energy.csv',encoding='cp949')\n",
    "range_temp = pd.read_csv('preprocess/range.csv',encoding='cp949')"
   ]
  },
  {
   "cell_type": "code",
   "execution_count": 24,
   "id": "12fa9fd3",
   "metadata": {},
   "outputs": [],
   "source": [
    "def pair_pearson(df: pd.DataFrame, cols=None):\n",
    "    if cols is None:\n",
    "        cols = df.select_dtypes(include='number').columns.tolist()\n",
    "    results = []\n",
    "    for x, y in combinations(cols, 2):\n",
    "        r, p = pearsonr(df[x].dropna(), df[y].dropna())\n",
    "        results.append({\n",
    "            'Variable 1': x,\n",
    "            'Variable 2': y,\n",
    "            'Pearson r': format(r, f\".4f\"),\n",
    "            'p-value': format(p, f\".4f\")\n",
    "        })\n",
    "    \n",
    "    return pd.DataFrame(results)\n",
    "\n",
    "def calculate_vif(v):\n",
    "    X = sm.add_constant(v)\n",
    "    vif_df = pd.DataFrame({\n",
    "        'variable': X.columns,\n",
    "        'VIF': [variance_inflation_factor(X.values, i)\n",
    "                for i in range(X.shape[1])]\n",
    "    })\n",
    "    return vif_df"
   ]
  },
  {
   "cell_type": "code",
   "execution_count": 26,
   "id": "33a015f9",
   "metadata": {},
   "outputs": [
    {
     "name": "stdout",
     "output_type": "stream",
     "text": [
      "전체 상관 계수\n",
      "\n",
      "          Variable 1         Variable 2 Pearson r p-value\n",
      "0          Range(km)  Efficiency(Wh/km)    0.0052  0.9625\n",
      "1          Range(km)       Battery(kWh)    0.8088  0.0000\n",
      "2  Efficiency(Wh/km)       Battery(kWh)    0.5865  0.0000\n",
      "\n",
      "\n",
      "\n",
      "전체 vif\n",
      "\n"
     ]
    },
    {
     "ename": "TypeError",
     "evalue": "'DataFrame' object is not callable",
     "output_type": "error",
     "traceback": [
      "\u001b[1;31m---------------------------------------------------------------------------\u001b[0m",
      "\u001b[1;31mTypeError\u001b[0m                                 Traceback (most recent call last)",
      "Cell \u001b[1;32mIn[26], line 6\u001b[0m\n\u001b[0;32m      3\u001b[0m \u001b[38;5;28mprint\u001b[39m(\u001b[38;5;124m'\u001b[39m\u001b[38;5;130;01m\\n\u001b[39;00m\u001b[38;5;130;01m\\n\u001b[39;00m\u001b[38;5;124m'\u001b[39m)\n\u001b[0;32m      5\u001b[0m \u001b[38;5;28mprint\u001b[39m(\u001b[38;5;124m\"\u001b[39m\u001b[38;5;124m전체 vif\u001b[39m\u001b[38;5;130;01m\\n\u001b[39;00m\u001b[38;5;124m\"\u001b[39m)\n\u001b[1;32m----> 6\u001b[0m \u001b[38;5;28mprint\u001b[39m(calculate_vif(range_battery[[\u001b[38;5;124m'\u001b[39m\u001b[38;5;124mRange(km)\u001b[39m\u001b[38;5;124m'\u001b[39m, \u001b[38;5;124m'\u001b[39m\u001b[38;5;124mEfficiency(Wh/km)\u001b[39m\u001b[38;5;124m'\u001b[39m, \u001b[38;5;124m'\u001b[39m\u001b[38;5;124mBattery(kWh)\u001b[39m\u001b[38;5;124m'\u001b[39m]]))\n",
      "Cell \u001b[1;32mIn[24], line 21\u001b[0m, in \u001b[0;36mcalculate_vif\u001b[1;34m(v)\u001b[0m\n\u001b[0;32m     16\u001b[0m \u001b[38;5;28;01mdef\u001b[39;00m \u001b[38;5;21mcalculate_vif\u001b[39m(v):\n\u001b[0;32m     17\u001b[0m     X \u001b[38;5;241m=\u001b[39m sm\u001b[38;5;241m.\u001b[39madd_constant(v)\n\u001b[0;32m     18\u001b[0m     vif_df \u001b[38;5;241m=\u001b[39m pd\u001b[38;5;241m.\u001b[39mDataFrame({\n\u001b[0;32m     19\u001b[0m         \u001b[38;5;124m'\u001b[39m\u001b[38;5;124mvariable\u001b[39m\u001b[38;5;124m'\u001b[39m: X\u001b[38;5;241m.\u001b[39mcolumns,\n\u001b[0;32m     20\u001b[0m         \u001b[38;5;124m'\u001b[39m\u001b[38;5;124mVIF\u001b[39m\u001b[38;5;124m'\u001b[39m: [variance_inflation_factor(X\u001b[38;5;241m.\u001b[39mvalues, i)\n\u001b[1;32m---> 21\u001b[0m                 \u001b[38;5;28;01mfor\u001b[39;00m i \u001b[38;5;129;01min\u001b[39;00m \u001b[38;5;28mrange\u001b[39m(X\u001b[38;5;241m.\u001b[39mshape[\u001b[38;5;241m1\u001b[39m])]\n\u001b[0;32m     22\u001b[0m     })\n\u001b[0;32m     23\u001b[0m     \u001b[38;5;28;01mreturn\u001b[39;00m vif_df\n",
      "\u001b[1;31mTypeError\u001b[0m: 'DataFrame' object is not callable"
     ]
    }
   ],
   "source": [
    "\n",
    "print(\"전체 상관 계수\\n\")\n",
    "print(pair_pearson(range_battery))\n",
    "print('\\n\\n')\n",
    "\n",
    "print(\"전체 vif\\n\")\n",
    "print(calculate_vif(range_battery[['Range(km)', 'Efficiency(Wh/km)', 'Battery(kWh)']]))"
   ]
  },
  {
   "cell_type": "code",
   "execution_count": null,
   "id": "59f1e8b6",
   "metadata": {},
   "outputs": [
    {
     "name": "stdout",
     "output_type": "stream",
     "text": [
      "'Range(km)', 'Efficiency(Wh/km)'\n",
      "\n"
     ]
    },
    {
     "ename": "TypeError",
     "evalue": "'DataFrame' object is not callable",
     "output_type": "error",
     "traceback": [
      "\u001b[1;31m---------------------------------------------------------------------------\u001b[0m",
      "\u001b[1;31mTypeError\u001b[0m                                 Traceback (most recent call last)",
      "Cell \u001b[1;32mIn[10], line 3\u001b[0m\n\u001b[0;32m      1\u001b[0m \u001b[38;5;28mprint\u001b[39m(\u001b[38;5;124m\"\u001b[39m\u001b[38;5;124m'\u001b[39m\u001b[38;5;124mRange(km)\u001b[39m\u001b[38;5;124m'\u001b[39m\u001b[38;5;124m, \u001b[39m\u001b[38;5;124m'\u001b[39m\u001b[38;5;124mEfficiency(Wh/km)\u001b[39m\u001b[38;5;124m'\u001b[39m\u001b[38;5;130;01m\\n\u001b[39;00m\u001b[38;5;124m\"\u001b[39m)\n\u001b[0;32m      2\u001b[0m temp \u001b[38;5;241m=\u001b[39m range_df[[\u001b[38;5;124m'\u001b[39m\u001b[38;5;124mRange(km)\u001b[39m\u001b[38;5;124m'\u001b[39m, \u001b[38;5;124m'\u001b[39m\u001b[38;5;124mEfficiency(Wh/km)\u001b[39m\u001b[38;5;124m'\u001b[39m]]\n\u001b[1;32m----> 3\u001b[0m \u001b[38;5;28mprint\u001b[39m(\u001b[38;5;28mprint\u001b[39m(calculate_vif(temp)))\n\u001b[0;32m      4\u001b[0m \u001b[38;5;28mprint\u001b[39m(\u001b[38;5;124m'\u001b[39m\u001b[38;5;130;01m\\n\u001b[39;00m\u001b[38;5;130;01m\\n\u001b[39;00m\u001b[38;5;124m'\u001b[39m)\n\u001b[0;32m      6\u001b[0m \u001b[38;5;28mprint\u001b[39m(\u001b[38;5;124m\"\u001b[39m\u001b[38;5;124m'\u001b[39m\u001b[38;5;124mRange(km)\u001b[39m\u001b[38;5;124m'\u001b[39m\u001b[38;5;124m, \u001b[39m\u001b[38;5;124m'\u001b[39m\u001b[38;5;124mBattery(kWh)\u001b[39m\u001b[38;5;124m'\u001b[39m\u001b[38;5;130;01m\\n\u001b[39;00m\u001b[38;5;124m\"\u001b[39m)\n",
      "Cell \u001b[1;32mIn[8], line 21\u001b[0m, in \u001b[0;36mcalculate_vif\u001b[1;34m(v)\u001b[0m\n\u001b[0;32m     16\u001b[0m \u001b[38;5;28;01mdef\u001b[39;00m \u001b[38;5;21mcalculate_vif\u001b[39m(v):\n\u001b[0;32m     17\u001b[0m     X \u001b[38;5;241m=\u001b[39m sm\u001b[38;5;241m.\u001b[39madd_constant(v)\n\u001b[0;32m     18\u001b[0m     vif_df \u001b[38;5;241m=\u001b[39m pd\u001b[38;5;241m.\u001b[39mDataFrame({\n\u001b[0;32m     19\u001b[0m         \u001b[38;5;124m'\u001b[39m\u001b[38;5;124mvariable\u001b[39m\u001b[38;5;124m'\u001b[39m: X\u001b[38;5;241m.\u001b[39mcolumns,\n\u001b[0;32m     20\u001b[0m         \u001b[38;5;124m'\u001b[39m\u001b[38;5;124mVIF\u001b[39m\u001b[38;5;124m'\u001b[39m: [variance_inflation_factor(X\u001b[38;5;241m.\u001b[39mvalues, i)\n\u001b[1;32m---> 21\u001b[0m                 \u001b[38;5;28;01mfor\u001b[39;00m i \u001b[38;5;129;01min\u001b[39;00m \u001b[38;5;28mrange\u001b[39m(X\u001b[38;5;241m.\u001b[39mshape[\u001b[38;5;241m1\u001b[39m])]\n\u001b[0;32m     22\u001b[0m     })\n\u001b[0;32m     23\u001b[0m     \u001b[38;5;28;01mreturn\u001b[39;00m vif_df\n",
      "\u001b[1;31mTypeError\u001b[0m: 'DataFrame' object is not callable"
     ]
    }
   ],
   "source": [
    "print(\"'Range(km)', 'Efficiency(Wh/km)'\\n\")\n",
    "temp = range_df[['Range(km)', 'Efficiency(Wh/km)']]\n",
    "print(print(calculate_vif(temp)))\n",
    "print('\\n\\n')\n",
    "\n",
    "print(\"'Range(km)', 'Battery(kWh)'\\n\")\n",
    "temp = range_df[['Range(km)', 'Battery(kWh)']]\n",
    "print(print(calculate_vif(temp)))\n",
    "print('\\n\\n')\n",
    "\n",
    "print(\"'Efficiency(Wh/km)', 'Battery(kWh)'\\n\")\n",
    "temp = range_df[['Efficiency(Wh/km)', 'Battery(kWh)']]\n",
    "print(print(calculate_vif(temp)))"
   ]
  },
  {
   "cell_type": "code",
   "execution_count": null,
   "id": "58b4d687",
   "metadata": {},
   "outputs": [
    {
     "name": "stdout",
     "output_type": "stream",
     "text": [
      "  Variable 1 Variable 2 Pearson r p-value\n",
      "0      보통휘발유     자동차용경유    0.9195  0.0000\n",
      "  variable         VIF\n",
      "0    const  164.963431\n",
      "1    보통휘발유    6.475106\n",
      "2   자동차용경유    6.475106\n"
     ]
    }
   ],
   "source": [
    "print(pair_pearson(oil[['보통휘발유','자동차용경유']]))\n",
    "print(calculate_vif(oil[['보통휘발유','자동차용경유']]))"
   ]
  },
  {
   "cell_type": "code",
   "execution_count": null,
   "id": "99d78432",
   "metadata": {},
   "outputs": [
    {
     "name": "stdout",
     "output_type": "stream",
     "text": [
      "      표시연비  등급\n",
      "5      4.1   4\n",
      "6      6.1   1\n",
      "9      4.1   4\n",
      "10     4.1   4\n",
      "11     4.1   4\n",
      "...    ...  ..\n",
      "3288   5.6   2\n",
      "3342   5.1   2\n",
      "3645   5.5   2\n",
      "3726   3.5   4\n",
      "3742   1.6   5\n",
      "\n",
      "[434 rows x 2 columns]\n"
     ]
    }
   ],
   "source": [
    "electric = energy[energy['연료'] == '전기'].copy()\n",
    "electric = electric[['표시연비', '등급']]\n",
    "grade_num = electric['등급'].str.extract(r'(\\d+)')[0]\n",
    "non_null = grade_num.notna()\n",
    "electric = electric[non_null].copy()\n",
    "electric['등급'] = grade_num[non_null].astype(int)\n",
    "print(electric)"
   ]
  },
  {
   "cell_type": "code",
   "execution_count": null,
   "id": "4799b984",
   "metadata": {},
   "outputs": [
    {
     "name": "stdout",
     "output_type": "stream",
     "text": [
      "  Variable 1 Variable 2 Pearson r p-value\n",
      "0       표시연비         등급   -0.9542  0.0000\n",
      "  variable         VIF\n",
      "0    const  763.895262\n",
      "1     표시연비   11.180516\n",
      "2       등급   11.180516\n"
     ]
    }
   ],
   "source": [
    "print(pair_pearson(electric))\n",
    "print(calculate_vif(electric))"
   ]
  },
  {
   "cell_type": "code",
   "execution_count": null,
   "id": "3c7df803",
   "metadata": {},
   "outputs": [],
   "source": []
  }
 ],
 "metadata": {
  "kernelspec": {
   "display_name": "base",
   "language": "python",
   "name": "python3"
  },
  "language_info": {
   "codemirror_mode": {
    "name": "ipython",
    "version": 3
   },
   "file_extension": ".py",
   "mimetype": "text/x-python",
   "name": "python",
   "nbconvert_exporter": "python",
   "pygments_lexer": "ipython3",
   "version": "3.12.3"
  }
 },
 "nbformat": 4,
 "nbformat_minor": 5
}
